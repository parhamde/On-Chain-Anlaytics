{
 "cells": [
  {
   "cell_type": "code",
   "execution_count": 1,
   "metadata": {},
   "outputs": [],
   "source": [
    "\"Importing Libraries\"\n",
    "import numpy as np\n",
    "import tensorflow as tf\n",
    "import pandas as pd\n",
    "import math\n",
    "import seaborn as sns\n",
    "import matplotlib.pyplot as plt\n",
    "import statsmodels.api as sm\n",
    "from keras.models import Sequential, load_model, Model\n",
    "from keras.layers import Dense, LSTM, GRU, Dropout, Input, Layer, SimpleRNN\n",
    "from keras.optimizers import Adam\n",
    "from keras.callbacks import EarlyStopping\n",
    "from sklearn.preprocessing import StandardScaler, MinMaxScaler\n",
    "from datetime import date, timedelta, datetime \n",
    "from sklearn.feature_selection import RFE\n",
    "from sklearn.linear_model import LinearRegression\n",
    "from pandas.plotting import register_matplotlib_converters \n",
    "import matplotlib.dates as mdates \n",
    "from sklearn.metrics import mean_absolute_error, mean_squared_error, r2_score\n",
    "from keras import Model\n",
    "import keras.backend as K\n",
    "import time\n",
    "sns.set_style('white', { 'axes.spines.right': False, 'axes.spines.top': False})"
   ]
  },
  {
   "cell_type": "code",
   "execution_count": 2,
   "metadata": {},
   "outputs": [
    {
     "name": "stderr",
     "output_type": "stream",
     "text": [
      "C:\\Users\\IraniaN\\AppData\\Local\\Temp\\ipykernel_13140\\3686295340.py:4: FutureWarning: Passing a DataFrame to DataFrame.from_records is deprecated. Use set_index and/or drop to modify the DataFrame instead.\n",
      "  df = pd.DataFrame.from_records(df)\n"
     ]
    },
    {
     "data": {
      "text/plain": [
       "Index(['Open', 'High', 'Low', 'Close', 'BTC Price', 'Volume'], dtype='object')"
      ]
     },
     "execution_count": 2,
     "metadata": {},
     "output_type": "execute_result"
    }
   ],
   "source": [
    "\n",
    "import os\n",
    "os.getcwd()\n",
    "df = pd.read_excel(\"../Data/BTC Traditional Price Data (16_2_18 - 31_10_20).xlsx\")\n",
    "df = pd.DataFrame.from_records(df)\n",
    "df.set_index('Date', inplace=True)\n",
    "for col in df.columns:\n",
    "    df[col] = df[col].astype('float32')\n",
    "df.columns"
   ]
  },
  {
   "cell_type": "code",
   "execution_count": 3,
   "metadata": {},
   "outputs": [
    {
     "name": "stdout",
     "output_type": "stream",
     "text": [
      "Train Data Set Shape:  (989, 6)\n",
      "X_train and y_train shapes:  (827, 14, 6) (827,)\n",
      "x_test and y_test shapes:  (148, 14, 6) (148,)\n"
     ]
    }
   ],
   "source": [
    "train_df = pd.DataFrame(df.copy())\n",
    "train_df_ext = train_df.copy()\n",
    "train_df_ext['Prediction'] = train_df_ext['BTC Price']\n",
    "nrows = train_df.shape[0]\n",
    "train_data_unscaled = np.array(train_df)\n",
    "np_data = np.reshape(train_data_unscaled, (nrows, -1))\n",
    "print(\"Train Data Set Shape: \", np_data.shape)\n",
    "\n",
    "#Scaling\n",
    "scaler = MinMaxScaler()\n",
    "train_data_scaled = scaler.fit_transform(train_data_unscaled)\n",
    "scaler_pred = MinMaxScaler()\n",
    "df_Close = pd.DataFrame(train_df_ext['BTC Price'])\n",
    "np_Close_scaled = scaler_pred.fit_transform(df_Close)\n",
    "\n",
    "#Partitioning\n",
    "sequence_length = 14\n",
    "index_Close = train_df_ext.columns.get_loc(\"BTC Price\")\n",
    "train_data_len = math.ceil(train_data_scaled.shape[0] * 0.85)\n",
    "train_data = train_data_scaled[0:train_data_len, :]\n",
    "test_data = train_data_scaled[train_data_len - sequence_length:, :]\n",
    "\n",
    "def partition_dataset(sequence_length, data):\n",
    "    x, y = [], []\n",
    "    data_len = data.shape[0]\n",
    "    for i in range(sequence_length, data_len):\n",
    "        x.append(data[i-sequence_length:i,:]) \n",
    "        y.append(data[i, index_Close])\n",
    "    x = np.array(x)\n",
    "    y = np.array(y)\n",
    "    return x, y\n",
    "\n",
    "x_train, y_train = partition_dataset(sequence_length, train_data)\n",
    "x_test, y_test = partition_dataset(sequence_length, test_data)\n",
    "\n",
    "print(\"X_train and y_train shapes: \", x_train.shape, y_train.shape)\n",
    "print(\"x_test and y_test shapes: \", x_test.shape, y_test.shape)\n",
    "\n"
   ]
  },
  {
   "cell_type": "code",
   "execution_count": null,
   "metadata": {},
   "outputs": [],
   "source": [
    "class attention(Layer):\n",
    "    def __init__(self,**kwargs):\n",
    "        super(attention,self).__init__(**kwargs)\n",
    " \n",
    "    def build(self,input_shape):\n",
    "        self.W=self.add_weight(name='attention_weight', shape=(input_shape[-1],1), \n",
    "                               initializer='random_normal', trainable=True)\n",
    "        self.b=self.add_weight(name='attention_bias', shape=(input_shape[1],1), \n",
    "                               initializer='zeros', trainable=True)        \n",
    "        super(attention, self).build(input_shape)\n",
    " \n",
    "    def call(self,x):\n",
    "        e = K.tanh(K.dot(x,self.W)+self.b)\n",
    "        e = K.squeeze(e, axis=-1)   \n",
    "        alpha = K.softmax(e)\n",
    "        alpha = K.expand_dims(alpha, axis=-1)\n",
    "        context = x * alpha\n",
    "        context = K.sum(context, axis=1)\n",
    "        return context"
   ]
  }
 ],
 "metadata": {
  "kernelspec": {
   "display_name": "Python 3",
   "language": "python",
   "name": "python3"
  },
  "language_info": {
   "codemirror_mode": {
    "name": "ipython",
    "version": 3
   },
   "file_extension": ".py",
   "mimetype": "text/x-python",
   "name": "python",
   "nbconvert_exporter": "python",
   "pygments_lexer": "ipython3",
   "version": "3.11.9"
  }
 },
 "nbformat": 4,
 "nbformat_minor": 2
}
